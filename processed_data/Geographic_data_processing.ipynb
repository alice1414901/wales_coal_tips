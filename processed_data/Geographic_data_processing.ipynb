{
 "cells": [
  {
   "cell_type": "markdown",
   "id": "de4754f2-afce-4eb9-a433-470e68d4c43c",
   "metadata": {},
   "source": [
    "## Data Processing "
   ]
  },
  {
   "cell_type": "markdown",
   "id": "2eccf948-fa3b-4143-a491-d756d1135bca",
   "metadata": {},
   "source": [
    "- This notebook processes two datasets required to visualise coal tip locations in Wales:\n",
    "1. Local Authorities Boundaries (LA)\n",
    "2. Welsh Coal Tip Locations (tips)\n",
    "- It includes basic processing to filter the boundary file to include only Welsh Local Authorities, and to convert the coordiantes reference system of the coal tips data to ESPG4326"
   ]
  },
  {
   "cell_type": "markdown",
   "id": "971ee9ee-4f17-473d-8e6e-f65cd0a8ebfd",
   "metadata": {},
   "source": [
    "### Import dependencies and read files"
   ]
  },
  {
   "cell_type": "code",
   "execution_count": null,
   "id": "0fb7d795-0210-41f8-babd-c66ba6fd2026",
   "metadata": {},
   "outputs": [],
   "source": [
    "import geopandas as gpd\n",
    "# boundaries data\n",
    "LA = gpd.read_file(\"./LA_boundaries_initial.geojson\")\n",
    "# tip data\n",
    "tips = gpd.read_file(\"./coal_tip_centroids_initial.gpkg\")"
   ]
  },
  {
   "cell_type": "markdown",
   "id": "c84cc79b-fe23-4c80-aa51-188f29744c87",
   "metadata": {},
   "source": [
    "### Local Authorities Boundaries Data "
   ]
  },
  {
   "cell_type": "code",
   "execution_count": null,
   "id": "4e2f589a-e587-4cd1-9ba9-b77837312e77",
   "metadata": {},
   "outputs": [
    {
     "data": {
      "text/plain": [
       "(22, 10)"
      ]
     },
     "execution_count": 6,
     "metadata": {},
     "output_type": "execute_result"
    }
   ],
   "source": [
    "LA.head()\n",
    "\n",
    "# filtering to only Wales - \"LAD25NMW\" is the column for Welsh names\n",
    "WLA = LA[LA[\"LAD25NMW\"].notnull() & (LA[\"LAD25NMW\"].str.strip() != \"\")]\n",
    "\n",
    "# checking there's 22 LA (the number in Wales)\n",
    "WLA.shape"
   ]
  },
  {
   "cell_type": "markdown",
   "id": "30e0730d-8ba5-424e-aafb-3c01f03bd247",
   "metadata": {},
   "source": [
    "### Coal Tip Data"
   ]
  },
  {
   "cell_type": "code",
   "execution_count": 7,
   "id": "b97b2346-44fe-44f4-84a6-f42b13a2bc2b",
   "metadata": {},
   "outputs": [
    {
     "name": "stdout",
     "output_type": "stream",
     "text": [
      "Initial CRS: EPSG:27700\n",
      "New CRS: EPSG:4326\n"
     ]
    }
   ],
   "source": [
    "# converting coordinates system to ESPG: 4326\n",
    "print(\"Initial CRS:\", tips.crs) # initial\n",
    "tips = tips.to_crs(epsg=4326)\n",
    "print(\"New CRS:\", tips.crs) # updated"
   ]
  },
  {
   "cell_type": "code",
   "execution_count": 8,
   "id": "367d9461-43d9-4ffe-8f03-1eecd2b5a47e",
   "metadata": {},
   "outputs": [
    {
     "data": {
      "text/html": [
       "<div>\n",
       "<style scoped>\n",
       "    .dataframe tbody tr th:only-of-type {\n",
       "        vertical-align: middle;\n",
       "    }\n",
       "\n",
       "    .dataframe tbody tr th {\n",
       "        vertical-align: top;\n",
       "    }\n",
       "\n",
       "    .dataframe thead th {\n",
       "        text-align: right;\n",
       "    }\n",
       "</style>\n",
       "<table border=\"1\" class=\"dataframe\">\n",
       "  <thead>\n",
       "    <tr style=\"text-align: right;\">\n",
       "      <th></th>\n",
       "      <th>UID</th>\n",
       "      <th>cat</th>\n",
       "      <th>awdurdod_cymreig</th>\n",
       "      <th>authority_english</th>\n",
       "      <th>last_inspected</th>\n",
       "      <th>arolygiad_diwethaf</th>\n",
       "      <th>tipX</th>\n",
       "      <th>tipY</th>\n",
       "      <th>geometry</th>\n",
       "    </tr>\n",
       "  </thead>\n",
       "  <tbody>\n",
       "    <tr>\n",
       "      <th>0</th>\n",
       "      <td>T92814</td>\n",
       "      <td>B</td>\n",
       "      <td>Powys</td>\n",
       "      <td>Powys</td>\n",
       "      <td>09/05/2024</td>\n",
       "      <td>09/05/2024</td>\n",
       "      <td>277943.654971</td>\n",
       "      <td>208023.135150</td>\n",
       "      <td>POINT (-3.76981 51.75755)</td>\n",
       "    </tr>\n",
       "    <tr>\n",
       "      <th>1</th>\n",
       "      <td>T38748</td>\n",
       "      <td>B</td>\n",
       "      <td>Pen-y-bont ar Ogwr</td>\n",
       "      <td>Bridgend</td>\n",
       "      <td>15/08/2023</td>\n",
       "      <td>15/08/2023</td>\n",
       "      <td>286554.488192</td>\n",
       "      <td>194019.095634</td>\n",
       "      <td>POINT (-3.64056 51.63351)</td>\n",
       "    </tr>\n",
       "    <tr>\n",
       "      <th>2</th>\n",
       "      <td>T71213</td>\n",
       "      <td>A</td>\n",
       "      <td>Rhondda Cynon Taf</td>\n",
       "      <td>Rhondda Cynon Taf</td>\n",
       "      <td>Pending Inspection</td>\n",
       "      <td>Disgwyl Arolygiad</td>\n",
       "      <td>300741.027220</td>\n",
       "      <td>199293.553911</td>\n",
       "      <td>POINT (-3.43715 51.6836)</td>\n",
       "    </tr>\n",
       "    <tr>\n",
       "      <th>3</th>\n",
       "      <td>T47637</td>\n",
       "      <td>B</td>\n",
       "      <td>Caerdydd</td>\n",
       "      <td>Cardiff</td>\n",
       "      <td>17/08/2023</td>\n",
       "      <td>17/08/2023</td>\n",
       "      <td>308438.219001</td>\n",
       "      <td>183016.239662</td>\n",
       "      <td>POINT (-3.32159 51.53859)</td>\n",
       "    </tr>\n",
       "    <tr>\n",
       "      <th>4</th>\n",
       "      <td>T25623</td>\n",
       "      <td>A</td>\n",
       "      <td>Merthyr Tudful</td>\n",
       "      <td>Merthyr Tydfil</td>\n",
       "      <td>Pending Inspection</td>\n",
       "      <td>Disgwyl Arolygiad</td>\n",
       "      <td>305500.960704</td>\n",
       "      <td>203229.704540</td>\n",
       "      <td>POINT (-3.36939 51.7198)</td>\n",
       "    </tr>\n",
       "    <tr>\n",
       "      <th>...</th>\n",
       "      <td>...</td>\n",
       "      <td>...</td>\n",
       "      <td>...</td>\n",
       "      <td>...</td>\n",
       "      <td>...</td>\n",
       "      <td>...</td>\n",
       "      <td>...</td>\n",
       "      <td>...</td>\n",
       "      <td>...</td>\n",
       "    </tr>\n",
       "    <tr>\n",
       "      <th>2569</th>\n",
       "      <td>T93419</td>\n",
       "      <td>C</td>\n",
       "      <td>Castell-nedd Port Talbot</td>\n",
       "      <td>Neath Port Talbot</td>\n",
       "      <td>06/11/2024</td>\n",
       "      <td>06/11/2024</td>\n",
       "      <td>281399.265369</td>\n",
       "      <td>202704.768464</td>\n",
       "      <td>POINT (-3.71796 51.7105)</td>\n",
       "    </tr>\n",
       "    <tr>\n",
       "      <th>2570</th>\n",
       "      <td>T32475</td>\n",
       "      <td>C</td>\n",
       "      <td>Rhondda Cynon Taf</td>\n",
       "      <td>Rhondda Cynon Taf</td>\n",
       "      <td>19/02/2025</td>\n",
       "      <td>19/02/2025</td>\n",
       "      <td>292553.469084</td>\n",
       "      <td>201140.879480</td>\n",
       "      <td>POINT (-3.5561 51.69869)</td>\n",
       "    </tr>\n",
       "    <tr>\n",
       "      <th>2571</th>\n",
       "      <td>T66850</td>\n",
       "      <td>C</td>\n",
       "      <td>Rhondda Cynon Taf</td>\n",
       "      <td>Rhondda Cynon Taf</td>\n",
       "      <td>19/02/2025</td>\n",
       "      <td>19/02/2025</td>\n",
       "      <td>292630.036481</td>\n",
       "      <td>200317.246145</td>\n",
       "      <td>POINT (-3.55474 51.69131)</td>\n",
       "    </tr>\n",
       "    <tr>\n",
       "      <th>2572</th>\n",
       "      <td>T43455</td>\n",
       "      <td>C</td>\n",
       "      <td>Rhondda Cynon Taf</td>\n",
       "      <td>Rhondda Cynon Taf</td>\n",
       "      <td>19/02/2025</td>\n",
       "      <td>19/02/2025</td>\n",
       "      <td>292507.847789</td>\n",
       "      <td>200586.271646</td>\n",
       "      <td>POINT (-3.55659 51.6937)</td>\n",
       "    </tr>\n",
       "    <tr>\n",
       "      <th>2573</th>\n",
       "      <td>None</td>\n",
       "      <td>None</td>\n",
       "      <td>None</td>\n",
       "      <td>None</td>\n",
       "      <td>None</td>\n",
       "      <td>None</td>\n",
       "      <td>NaN</td>\n",
       "      <td>NaN</td>\n",
       "      <td>POINT EMPTY</td>\n",
       "    </tr>\n",
       "  </tbody>\n",
       "</table>\n",
       "<p>2574 rows × 9 columns</p>\n",
       "</div>"
      ],
      "text/plain": [
       "         UID   cat          awdurdod_cymreig  authority_english  \\\n",
       "0     T92814     B                     Powys              Powys   \n",
       "1     T38748     B        Pen-y-bont ar Ogwr           Bridgend   \n",
       "2     T71213     A         Rhondda Cynon Taf  Rhondda Cynon Taf   \n",
       "3     T47637     B                  Caerdydd            Cardiff   \n",
       "4     T25623     A            Merthyr Tudful     Merthyr Tydfil   \n",
       "...      ...   ...                       ...                ...   \n",
       "2569  T93419     C  Castell-nedd Port Talbot  Neath Port Talbot   \n",
       "2570  T32475     C         Rhondda Cynon Taf  Rhondda Cynon Taf   \n",
       "2571  T66850     C         Rhondda Cynon Taf  Rhondda Cynon Taf   \n",
       "2572  T43455     C         Rhondda Cynon Taf  Rhondda Cynon Taf   \n",
       "2573    None  None                      None               None   \n",
       "\n",
       "          last_inspected arolygiad_diwethaf           tipX           tipY  \\\n",
       "0             09/05/2024         09/05/2024  277943.654971  208023.135150   \n",
       "1             15/08/2023         15/08/2023  286554.488192  194019.095634   \n",
       "2     Pending Inspection  Disgwyl Arolygiad  300741.027220  199293.553911   \n",
       "3             17/08/2023         17/08/2023  308438.219001  183016.239662   \n",
       "4     Pending Inspection  Disgwyl Arolygiad  305500.960704  203229.704540   \n",
       "...                  ...                ...            ...            ...   \n",
       "2569          06/11/2024         06/11/2024  281399.265369  202704.768464   \n",
       "2570          19/02/2025         19/02/2025  292553.469084  201140.879480   \n",
       "2571          19/02/2025         19/02/2025  292630.036481  200317.246145   \n",
       "2572          19/02/2025         19/02/2025  292507.847789  200586.271646   \n",
       "2573                None               None            NaN            NaN   \n",
       "\n",
       "                       geometry  \n",
       "0     POINT (-3.76981 51.75755)  \n",
       "1     POINT (-3.64056 51.63351)  \n",
       "2      POINT (-3.43715 51.6836)  \n",
       "3     POINT (-3.32159 51.53859)  \n",
       "4      POINT (-3.36939 51.7198)  \n",
       "...                         ...  \n",
       "2569   POINT (-3.71796 51.7105)  \n",
       "2570   POINT (-3.5561 51.69869)  \n",
       "2571  POINT (-3.55474 51.69131)  \n",
       "2572   POINT (-3.55659 51.6937)  \n",
       "2573                POINT EMPTY  \n",
       "\n",
       "[2574 rows x 9 columns]"
      ]
     },
     "execution_count": 8,
     "metadata": {},
     "output_type": "execute_result"
    }
   ],
   "source": [
    "# checking all tip categorisations (returns None as one of the values)\n",
    "tips[\"cat\"].unique() \n",
    "# finding null row\n",
    "tips[tips[\"cat\"].isnull()]\n",
    "# removing empty row \n",
    "tips.dropna(how='all')"
   ]
  },
  {
   "cell_type": "markdown",
   "id": "19205f5b-2274-46ef-877b-0ec9abad2995",
   "metadata": {},
   "source": [
    "### Save files"
   ]
  },
  {
   "cell_type": "code",
   "execution_count": null,
   "id": "5dc03af8-0d2a-4a0b-b5a1-12d0d3577d6f",
   "metadata": {},
   "outputs": [],
   "source": [
    "WLA.to_file(\"WLAs.geojson\", driver=\"GeoJSON\") #further processing required to turn into topodata. the final file ready for visualisation will be put in the processed_data folder\n",
    "tips.to_file(\"processed_data/tips_processed.geojson\", driver =\"GeoJSON\")"
   ]
  }
 ],
 "metadata": {
  "kernelspec": {
   "display_name": "Python 3",
   "language": "python",
   "name": "python3"
  },
  "language_info": {
   "codemirror_mode": {
    "name": "ipython",
    "version": 3
   },
   "file_extension": ".py",
   "mimetype": "text/x-python",
   "name": "python",
   "nbconvert_exporter": "python",
   "pygments_lexer": "ipython3",
   "version": "3.12.4"
  }
 },
 "nbformat": 4,
 "nbformat_minor": 5
}
